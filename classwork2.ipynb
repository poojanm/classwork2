{
  "nbformat": 4,
  "nbformat_minor": 0,
  "metadata": {
    "colab": {
      "name": "classwork2.ipynb",
      "provenance": []
    },
    "kernelspec": {
      "name": "python3",
      "display_name": "Python 3"
    }
  },
  "cells": [
    {
      "cell_type": "code",
      "metadata": {
        "id": "CbYJsAEDrK_8",
        "colab_type": "code",
        "colab": {}
      },
      "source": [
        "import pandas as pd\n",
        "data = pd.read_json('http://snap.stanford.edu/data/amazon/productGraph/categoryFiles/reviews_Office_Products_5.json.gz',lines=True)"
      ],
      "execution_count": 0,
      "outputs": []
    },
    {
      "cell_type": "code",
      "metadata": {
        "id": "2QQCvvNsSlPp",
        "colab_type": "code",
        "colab": {
          "base_uri": "https://localhost:8080/",
          "height": 573
        },
        "outputId": "69ed3ba4-c422-46fc-dad2-55e8da3d8112"
      },
      "source": [
        "data.head(10)"
      ],
      "execution_count": 2,
      "outputs": [
        {
          "output_type": "execute_result",
          "data": {
            "text/html": [
              "<div>\n",
              "<style scoped>\n",
              "    .dataframe tbody tr th:only-of-type {\n",
              "        vertical-align: middle;\n",
              "    }\n",
              "\n",
              "    .dataframe tbody tr th {\n",
              "        vertical-align: top;\n",
              "    }\n",
              "\n",
              "    .dataframe thead th {\n",
              "        text-align: right;\n",
              "    }\n",
              "</style>\n",
              "<table border=\"1\" class=\"dataframe\">\n",
              "  <thead>\n",
              "    <tr style=\"text-align: right;\">\n",
              "      <th></th>\n",
              "      <th>reviewerID</th>\n",
              "      <th>asin</th>\n",
              "      <th>reviewerName</th>\n",
              "      <th>helpful</th>\n",
              "      <th>reviewText</th>\n",
              "      <th>overall</th>\n",
              "      <th>summary</th>\n",
              "      <th>unixReviewTime</th>\n",
              "      <th>reviewTime</th>\n",
              "    </tr>\n",
              "  </thead>\n",
              "  <tbody>\n",
              "    <tr>\n",
              "      <th>0</th>\n",
              "      <td>A32T2H8150OJLU</td>\n",
              "      <td>B00000JBLH</td>\n",
              "      <td>ARH</td>\n",
              "      <td>[3, 4]</td>\n",
              "      <td>I bought my first HP12C in about 1984 or so, a...</td>\n",
              "      <td>5</td>\n",
              "      <td>A solid performer, and long time friend</td>\n",
              "      <td>1094169600</td>\n",
              "      <td>09 3, 2004</td>\n",
              "    </tr>\n",
              "    <tr>\n",
              "      <th>1</th>\n",
              "      <td>A3MAFS04ZABRGO</td>\n",
              "      <td>B00000JBLH</td>\n",
              "      <td>Let it Be \"Alan\"</td>\n",
              "      <td>[7, 9]</td>\n",
              "      <td>WHY THIS BELATED REVIEW? I feel very obliged t...</td>\n",
              "      <td>5</td>\n",
              "      <td>Price of GOLD is up, so don't bury the golden ...</td>\n",
              "      <td>1197676800</td>\n",
              "      <td>12 15, 2007</td>\n",
              "    </tr>\n",
              "    <tr>\n",
              "      <th>2</th>\n",
              "      <td>A1F1A0QQP2XVH5</td>\n",
              "      <td>B00000JBLH</td>\n",
              "      <td>Mark B</td>\n",
              "      <td>[3, 3]</td>\n",
              "      <td>I have an HP 48GX that has been kicking for mo...</td>\n",
              "      <td>2</td>\n",
              "      <td>Good functionality, but not durable like old HPs</td>\n",
              "      <td>1293840000</td>\n",
              "      <td>01 1, 2011</td>\n",
              "    </tr>\n",
              "    <tr>\n",
              "      <th>3</th>\n",
              "      <td>A49R5DBXXQDE5</td>\n",
              "      <td>B00000JBLH</td>\n",
              "      <td>R. D Johnson</td>\n",
              "      <td>[7, 8]</td>\n",
              "      <td>I've started doing more finance stuff recently...</td>\n",
              "      <td>5</td>\n",
              "      <td>One of the last of an almost extinct species</td>\n",
              "      <td>1145404800</td>\n",
              "      <td>04 19, 2006</td>\n",
              "    </tr>\n",
              "    <tr>\n",
              "      <th>4</th>\n",
              "      <td>A2XRMQA6PJ5ZJ8</td>\n",
              "      <td>B00000JBLH</td>\n",
              "      <td>Roger J. Buffington</td>\n",
              "      <td>[0, 0]</td>\n",
              "      <td>For simple calculations and discounted cash fl...</td>\n",
              "      <td>5</td>\n",
              "      <td>Still the best</td>\n",
              "      <td>1375574400</td>\n",
              "      <td>08 4, 2013</td>\n",
              "    </tr>\n",
              "    <tr>\n",
              "      <th>5</th>\n",
              "      <td>A2JFOHC9W629IE</td>\n",
              "      <td>B00000JBLH</td>\n",
              "      <td>scott_from_dallas</td>\n",
              "      <td>[10, 12]</td>\n",
              "      <td>While I don't have an MBA, it's hard to believ...</td>\n",
              "      <td>5</td>\n",
              "      <td>Every MBA student and grad should get one</td>\n",
              "      <td>1011744000</td>\n",
              "      <td>01 23, 2002</td>\n",
              "    </tr>\n",
              "    <tr>\n",
              "      <th>6</th>\n",
              "      <td>A38NELQT98S4H8</td>\n",
              "      <td>B00000JBLH</td>\n",
              "      <td>W. B. Halper</td>\n",
              "      <td>[3, 4]</td>\n",
              "      <td>I've had an HP 12C ever since they were first ...</td>\n",
              "      <td>5</td>\n",
              "      <td>A workhorse of a calculator</td>\n",
              "      <td>1168992000</td>\n",
              "      <td>01 17, 2007</td>\n",
              "    </tr>\n",
              "    <tr>\n",
              "      <th>7</th>\n",
              "      <td>AA8M6331NI1EN</td>\n",
              "      <td>B00000JBLH</td>\n",
              "      <td>ZombieMom</td>\n",
              "      <td>[0, 0]</td>\n",
              "      <td>Bought this for my boss because he lost his.  ...</td>\n",
              "      <td>5</td>\n",
              "      <td>Fast shipping &amp; great price for this awesome c...</td>\n",
              "      <td>1384387200</td>\n",
              "      <td>11 14, 2013</td>\n",
              "    </tr>\n",
              "    <tr>\n",
              "      <th>8</th>\n",
              "      <td>A25C2M3QF9G7OQ</td>\n",
              "      <td>B00000JBLU</td>\n",
              "      <td>Comdet</td>\n",
              "      <td>[3, 3]</td>\n",
              "      <td>This is a well-designed, simple calculator tha...</td>\n",
              "      <td>5</td>\n",
              "      <td>Nice design, works well, great value</td>\n",
              "      <td>1291680000</td>\n",
              "      <td>12 7, 2010</td>\n",
              "    </tr>\n",
              "    <tr>\n",
              "      <th>9</th>\n",
              "      <td>A1RTVWTWZSIC94</td>\n",
              "      <td>B00000JBLU</td>\n",
              "      <td>Hb \"Black Beauty\"</td>\n",
              "      <td>[0, 0]</td>\n",
              "      <td>I love this calculator, big numbers and calcul...</td>\n",
              "      <td>5</td>\n",
              "      <td>Love It!!!!!!!!!</td>\n",
              "      <td>1385942400</td>\n",
              "      <td>12 2, 2013</td>\n",
              "    </tr>\n",
              "  </tbody>\n",
              "</table>\n",
              "</div>"
            ],
            "text/plain": [
              "       reviewerID        asin  ... unixReviewTime   reviewTime\n",
              "0  A32T2H8150OJLU  B00000JBLH  ...     1094169600   09 3, 2004\n",
              "1  A3MAFS04ZABRGO  B00000JBLH  ...     1197676800  12 15, 2007\n",
              "2  A1F1A0QQP2XVH5  B00000JBLH  ...     1293840000   01 1, 2011\n",
              "3   A49R5DBXXQDE5  B00000JBLH  ...     1145404800  04 19, 2006\n",
              "4  A2XRMQA6PJ5ZJ8  B00000JBLH  ...     1375574400   08 4, 2013\n",
              "5  A2JFOHC9W629IE  B00000JBLH  ...     1011744000  01 23, 2002\n",
              "6  A38NELQT98S4H8  B00000JBLH  ...     1168992000  01 17, 2007\n",
              "7   AA8M6331NI1EN  B00000JBLH  ...     1384387200  11 14, 2013\n",
              "8  A25C2M3QF9G7OQ  B00000JBLU  ...     1291680000   12 7, 2010\n",
              "9  A1RTVWTWZSIC94  B00000JBLU  ...     1385942400   12 2, 2013\n",
              "\n",
              "[10 rows x 9 columns]"
            ]
          },
          "metadata": {
            "tags": []
          },
          "execution_count": 2
        }
      ]
    },
    {
      "cell_type": "code",
      "metadata": {
        "id": "q-JuCR9NSxGF",
        "colab_type": "code",
        "colab": {}
      },
      "source": [
        "dF = pd.DataFrame(data)"
      ],
      "execution_count": 0,
      "outputs": []
    },
    {
      "cell_type": "code",
      "metadata": {
        "id": "aitK2auVS07W",
        "colab_type": "code",
        "colab": {}
      },
      "source": [
        "def totalWordCount(str):\n",
        "  words = str.split()\n",
        "  count = 0\n",
        "  for w in words:\n",
        "    count += 1\n",
        "  return count"
      ],
      "execution_count": 0,
      "outputs": []
    },
    {
      "cell_type": "code",
      "metadata": {
        "id": "iDMOHAXnTKAU",
        "colab_type": "code",
        "colab": {}
      },
      "source": [
        "def countVowelConsonent(str):\n",
        "  vowelConsonentCount = {'vowel':0, 'consonent':0, 'total word count':0}\n",
        "  str = str.lower()\n",
        "  vowelConsonentCount['total word count'] = totalWordCount(str)\n",
        "  for i in range(0, len(str)):\n",
        "    if str[i] in ('a', 'e', 'i', 'o', 'u'):\n",
        "      vowelConsonentCount['vowel'] += 1\n",
        "    elif (str[i] >= 'a' and str[i] <= 'z'):\n",
        "      vowelConsonentCount['consonent'] += 1\n",
        "   \n",
        "  return vowelConsonentCount"
      ],
      "execution_count": 0,
      "outputs": []
    },
    {
      "cell_type": "code",
      "metadata": {
        "id": "uhskAS5xTLJg",
        "colab_type": "code",
        "colab": {}
      },
      "source": [
        "dF['reviewText_VCcount'] = dF['reviewText'].apply(countVowelConsonent)"
      ],
      "execution_count": 0,
      "outputs": []
    },
    {
      "cell_type": "code",
      "metadata": {
        "id": "fa8qMqqjTQpk",
        "colab_type": "code",
        "colab": {
          "base_uri": "https://localhost:8080/",
          "height": 54
        },
        "outputId": "5f5c1b2f-b9d8-4679-b4b3-1a00c022e8c5"
      },
      "source": [
        "dF['reviewText_VCcount'][2]"
      ],
      "execution_count": 8,
      "outputs": [
        {
          "output_type": "execute_result",
          "data": {
            "text/plain": [
              "{'consonent': 235, 'total word count': 96, 'vowel': 134}"
            ]
          },
          "metadata": {
            "tags": []
          },
          "execution_count": 8
        }
      ]
    },
    {
      "cell_type": "code",
      "metadata": {
        "id": "Jxu4Y0npTVSA",
        "colab_type": "code",
        "colab": {
          "base_uri": "https://localhost:8080/",
          "height": 54
        },
        "outputId": "9592d7f7-6f57-4e7a-d471-c24700183e06"
      },
      "source": [
        "dF['reviewText'][2]"
      ],
      "execution_count": 9,
      "outputs": [
        {
          "output_type": "execute_result",
          "data": {
            "text/plain": [
              "'I have an HP 48GX that has been kicking for more than twenty years and an HP 11 that is more than 25 years old and still flawless.  I have had this 12C for about 18 months and the number 5 key is already giving me trouble (have to press hard for it to register).  No drops, no abuse.  The overall feel of this new HP is cheaper plastic.  The keys feel hollow and light.  The available functions are great.  This is a classic calculator.  But the functions are no good if the keys stop working...'"
            ]
          },
          "metadata": {
            "tags": []
          },
          "execution_count": 9
        }
      ]
    },
    {
      "cell_type": "code",
      "metadata": {
        "id": "s58M1AwmThVr",
        "colab_type": "code",
        "colab": {}
      },
      "source": [
        "import re"
      ],
      "execution_count": 0,
      "outputs": []
    },
    {
      "cell_type": "code",
      "metadata": {
        "id": "q5duejd3TjSP",
        "colab_type": "code",
        "colab": {}
      },
      "source": [
        "def Bg(str):\n",
        "  bG = {'count b':0,'count g':0}\n",
        "  word = str.split()\n",
        "\n",
        "  for w in word:\n",
        "    w = re.sub(\"[^\\w\\s]\", \"\",w)\n",
        "    b = re.findall(\"^B.|^b.\",w)\n",
        "    g = re.findall(\"g$\",w)\n",
        " \n",
        "    for i in b:\n",
        "      bG['count b']+=1\n",
        "    for i in g:\n",
        "      bG['count g']+=1\n",
        "  return bG\n",
        "\n",
        "def bBgG(l):\n",
        "    b = re.findall(r'\\b[bB]\\w+', l)\n",
        "    g = re.findall(r'\\b\\w+[gG]\\b',l)\n",
        "    for x in g:\n",
        "        if x not in b:\n",
        "            b.append(x)\n",
        "\n",
        "    return b"
      ],
      "execution_count": 0,
      "outputs": []
    },
    {
      "cell_type": "code",
      "metadata": {
        "id": "IhQ62TpXT1Zk",
        "colab_type": "code",
        "colab": {}
      },
      "source": [
        "dF['reviewText_BG'] = dF['reviewText'].apply(bBgG)"
      ],
      "execution_count": 0,
      "outputs": []
    },
    {
      "cell_type": "code",
      "metadata": {
        "id": "KXAR6_VBVsoX",
        "colab_type": "code",
        "colab": {
          "base_uri": "https://localhost:8080/",
          "height": 137
        },
        "outputId": "7c4c44e4-f701-4808-bb71-5b602e06712f"
      },
      "source": [
        "dF['reviewText_BG'].head()"
      ],
      "execution_count": 16,
      "outputs": [
        {
          "output_type": "execute_result",
          "data": {
            "text/plain": [
              "0    [bought, but, by, buy, but, be, but, best, be,...\n",
              "1    [BELATED, burying, brandname, best, business, ...\n",
              "2                [been, But, kicking, giving, working]\n",
              "3    [been, because, but, buy, Black, But, beats, b...\n",
              "4    [best, business, but, be, brackets, practicing...\n",
              "Name: reviewText_BG, dtype: object"
            ]
          },
          "metadata": {
            "tags": []
          },
          "execution_count": 16
        }
      ]
    },
    {
      "cell_type": "code",
      "metadata": {
        "id": "9W9p9keXV0bc",
        "colab_type": "code",
        "colab": {
          "base_uri": "https://localhost:8080/",
          "height": 54
        },
        "outputId": "ece96c6a-4e29-4d04-9544-6b602781e5a6"
      },
      "source": [
        "dF['reviewText'][2]"
      ],
      "execution_count": 17,
      "outputs": [
        {
          "output_type": "execute_result",
          "data": {
            "text/plain": [
              "'I have an HP 48GX that has been kicking for more than twenty years and an HP 11 that is more than 25 years old and still flawless.  I have had this 12C for about 18 months and the number 5 key is already giving me trouble (have to press hard for it to register).  No drops, no abuse.  The overall feel of this new HP is cheaper plastic.  The keys feel hollow and light.  The available functions are great.  This is a classic calculator.  But the functions are no good if the keys stop working...'"
            ]
          },
          "metadata": {
            "tags": []
          },
          "execution_count": 17
        }
      ]
    },
    {
      "cell_type": "code",
      "metadata": {
        "id": "TfEM8p9GV8uH",
        "colab_type": "code",
        "colab": {}
      },
      "source": [
        ""
      ],
      "execution_count": 0,
      "outputs": []
    }
  ]
}